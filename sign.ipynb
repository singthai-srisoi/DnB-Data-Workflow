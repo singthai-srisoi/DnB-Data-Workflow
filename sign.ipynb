{
 "cells": [
  {
   "cell_type": "code",
   "execution_count": 1,
   "metadata": {},
   "outputs": [
    {
     "name": "stdout",
     "output_type": "stream",
     "text": [
      "Private & public keys generated!\n"
     ]
    }
   ],
   "source": [
    "from cryptography.hazmat.primitives.asymmetric import rsa\n",
    "from cryptography.hazmat.primitives import serialization\n",
    "\n",
    "# Generate RSA key pair\n",
    "private_key = rsa.generate_private_key(public_exponent=65537, key_size=2048)\n",
    "public_key = private_key.public_key()\n",
    "\n",
    "# Save private key\n",
    "with open(\"private.pem\", \"wb\") as f:\n",
    "    f.write(private_key.private_bytes(\n",
    "        encoding=serialization.Encoding.PEM,\n",
    "        format=serialization.PrivateFormat.PKCS8,\n",
    "        encryption_algorithm=serialization.NoEncryption()\n",
    "    ))\n",
    "\n",
    "# Save public key\n",
    "with open(\"public.pem\", \"wb\") as f:\n",
    "    f.write(public_key.public_bytes(\n",
    "        encoding=serialization.Encoding.PEM,\n",
    "        format=serialization.PublicFormat.SubjectPublicKeyInfo\n",
    "    ))\n",
    "\n",
    "print(\"Private & public keys generated!\")\n"
   ]
  },
  {
   "cell_type": "code",
   "execution_count": null,
   "metadata": {},
   "outputs": [
    {
     "name": "stdout",
     "output_type": "stream",
     "text": [
      "✅ X.509 Certificate & RSA Key Pair Generated!\n"
     ]
    }
   ],
   "source": [
    "from cryptography import x509\n",
    "from cryptography.x509.oid import NameOID\n",
    "from cryptography.hazmat.primitives import hashes\n",
    "from cryptography.hazmat.primitives.asymmetric import rsa\n",
    "from cryptography.hazmat.primitives import serialization\n",
    "import datetime\n",
    "\n",
    "import tomllib as tl\n",
    "\n",
    "with open(\"config.toml\", \"rb\") as f:\n",
    "    config = tl.load(f)['CA']\n",
    "\n",
    "# Generate RSA Key Pair\n",
    "private_key = rsa.generate_private_key(public_exponent=65537, key_size=2048)\n",
    "public_key = private_key.public_key()\n",
    "\n",
    "# Create a Self-Signed X.509 Certificate\n",
    "subject = issuer = x509.Name([\n",
    "    x509.NameAttribute(NameOID.COMMON_NAME, config['COMMON_NAME']),\n",
    "    x509.NameAttribute(NameOID.COUNTRY_NAME, config['COUNTRY_NAME']),\n",
    "    x509.NameAttribute(NameOID.ORGANIZATION_NAME, config['ORGANIZATION_NAME']),\n",
    "    x509.NameAttribute(NameOID.ORGANIZATION_IDENTIFIER, config['ORGANIZATION_IDENTIFIER']),\n",
    "    x509.NameAttribute(NameOID.SERIAL_NUMBER, config['SERIAL_NUMBER']),\n",
    "])\n",
    "\n",
    "\n",
    "cert = x509.CertificateBuilder().subject_name(subject)\\\n",
    "    .issuer_name(issuer)\\\n",
    "    .public_key(public_key)\\\n",
    "    .serial_number(x509.random_serial_number())\\\n",
    "    .not_valid_before(datetime.datetime.now(datetime.UTC))\\\n",
    "    .not_valid_after(datetime.datetime.now(datetime.UTC) + datetime.timedelta(days=365))\\\n",
    "    .sign(private_key, hashes.SHA256())\n",
    "\n",
    "# Save Private Key\n",
    "with open(\"private.pem\", \"wb\") as f:\n",
    "    f.write(private_key.private_bytes(\n",
    "        encoding=serialization.Encoding.PEM,\n",
    "        format=serialization.PrivateFormat.PKCS8,\n",
    "        encryption_algorithm=serialization.NoEncryption()\n",
    "    ))\n",
    "\n",
    "# Save Public Certificate (X.509)\n",
    "with open(\"certificate.pem\", \"wb\") as f:\n",
    "    f.write(cert.public_bytes(serialization.Encoding.PEM))\n",
    "\n",
    "print(\"✅ X.509 Certificate & RSA Key Pair Generated!\")\n"
   ]
  },
  {
   "cell_type": "code",
   "execution_count": 3,
   "metadata": {},
   "outputs": [
    {
     "name": "stdout",
     "output_type": "stream",
     "text": [
      "Invoice successfully signed!\n"
     ]
    }
   ],
   "source": [
    "import jwt\n",
    "import json\n",
    "\n",
    "# Load JSON invoice\n",
    "with open(\"invoice.json\", \"r\") as f:\n",
    "    invoice_data = json.load(f)\n",
    "\n",
    "# Load private key\n",
    "with open(\"private.pem\", \"rb\") as f:\n",
    "    private_key = f.read()\n",
    "\n",
    "# Create JWS signature\n",
    "signed_invoice = jwt.encode(\n",
    "    invoice_data,\n",
    "    private_key,\n",
    "    algorithm=\"RS256\",\n",
    "    headers={\"alg\": \"RS256\", \"typ\": \"JWT\"}\n",
    ")\n",
    "\n",
    "# Save signed JSON invoice\n",
    "with open(\"signed_invoice.json\", \"w\") as f:\n",
    "    json.dump({\"signed_invoice\": signed_invoice}, f, indent=4)\n",
    "\n",
    "print(\"Invoice successfully signed!\")\n"
   ]
  },
  {
   "cell_type": "code",
   "execution_count": 4,
   "metadata": {},
   "outputs": [
    {
     "name": "stdout",
     "output_type": "stream",
     "text": [
      "Verified Invoice: {'invoice_id': 'INV-001', 'issue_date': '2025-03-21', 'supplier': {'name': 'My Company Sdn Bhd', 'id': '1234567890'}, 'customer': {'name': 'Customer Sdn Bhd', 'id': '0987654321'}, 'total_amount': 100.0, 'currency': 'MYR'}\n"
     ]
    }
   ],
   "source": [
    "# Load public key\n",
    "with open(\"public.pem\", \"rb\") as f:\n",
    "    public_key = f.read()\n",
    "\n",
    "# Verify signature\n",
    "decoded_invoice = jwt.decode(signed_invoice, public_key, algorithms=[\"RS256\"])\n",
    "print(\"Verified Invoice:\", decoded_invoice)\n"
   ]
  },
  {
   "cell_type": "code",
   "execution_count": 12,
   "metadata": {},
   "outputs": [
    {
     "name": "stdout",
     "output_type": "stream",
     "text": [
      "✔ Invoice signed and encoded successfully!\n"
     ]
    }
   ],
   "source": [
    "import json\n",
    "import base64\n",
    "import jwt  # PyJWT\n",
    "from cryptography.hazmat.primitives import serialization\n",
    "\n",
    "def load_private_key():\n",
    "    \"\"\"Load private key from file.\"\"\"\n",
    "    with open(\"private.pem\", \"rb\") as f:\n",
    "        # return f.read()\n",
    "        return serialization.load_pem_private_key(f.read(), password=None)\n",
    "\n",
    "def preprocess_json_invoice(input_file, output_file):\n",
    "    \"\"\"Remove UBLExtensions & Signature, then minify JSON.\"\"\"\n",
    "    with open(input_file, \"r\") as f:\n",
    "        invoice_data = json.load(f)\n",
    "    \n",
    "    # Remove unnecessary sections\n",
    "    invoice_data.pop(\"UBLExtensions\", None)\n",
    "    invoice_data.pop(\"Signature\", None)\n",
    "    \n",
    "    # Minify JSON (remove spaces/newlines)\n",
    "    minified_json = json.dumps(invoice_data, separators=(\",\", \":\"))\n",
    "    \n",
    "    with open(output_file, \"w\") as f:\n",
    "        f.write(minified_json)\n",
    "    \n",
    "    return minified_json\n",
    "\n",
    "def preprocess_dict_invoice(invoice_data):\n",
    "    \"\"\"Remove UBLExtensions & Signature from dict.\"\"\"\n",
    "    # Remove unnecessary sections\n",
    "    invoice_data.pop(\"UBLExtensions\", None)\n",
    "    invoice_data.pop(\"Signature\", None)\n",
    "    return invoice_data\n",
    "\n",
    "def sign_json_invoice(minified_json, private_key):\n",
    "    \"\"\"Sign JSON invoice using X.509 and JWS (RS256).\"\"\"\n",
    "    return jwt.encode(\n",
    "        json.loads(minified_json),  # Payload\n",
    "        private_key,\n",
    "        algorithm=\"RS256\",\n",
    "        headers={\"alg\": \"RS256\", \"typ\": \"JWT\"}\n",
    "    )\n",
    "    \n",
    "def sign_dict_invoice(invoice_data, private_key):\n",
    "    \"\"\"Sign JSON invoice using X.509 and JWS (RS256).\"\"\"\n",
    "    return jwt.encode(\n",
    "        preprocess_dict_invoice(invoice_data),  # Payload\n",
    "        private_key,\n",
    "        algorithm=\"RS256\",\n",
    "        headers={\"alg\": \"RS256\", \"typ\": \"JWT\"}\n",
    "    )\n",
    "\n",
    "def encode_signed_invoice(signed_invoice):\n",
    "    \"\"\"Base64 encode the signed JSON invoice.\"\"\"\n",
    "    return base64.b64encode(signed_invoice.encode()).decode()\n",
    "\n",
    "def main():\n",
    "    private_key = load_private_key()\n",
    "    minified_json = preprocess_json_invoice(\"invoice.json\", \"minified_invoice.json\")\n",
    "    signed_invoice = sign_json_invoice(minified_json, private_key)\n",
    "    encoded_invoice = encode_signed_invoice(signed_invoice)\n",
    "    \n",
    "    with open(\"signed_invoice.json\", \"w\") as f:\n",
    "        json.dump({\"signed_invoice\": encoded_invoice}, f, indent=4)\n",
    "    \n",
    "    print(\"✔ Invoice signed and encoded successfully!\")\n",
    "\n",
    "if __name__ == \"__main__\":\n",
    "    main()"
   ]
  },
  {
   "cell_type": "markdown",
   "metadata": {},
   "source": [
    "generate X.509 certificate using cryptography"
   ]
  }
 ],
 "metadata": {
  "kernelspec": {
   "display_name": "venv",
   "language": "python",
   "name": "python3"
  },
  "language_info": {
   "codemirror_mode": {
    "name": "ipython",
    "version": 3
   },
   "file_extension": ".py",
   "mimetype": "text/x-python",
   "name": "python",
   "nbconvert_exporter": "python",
   "pygments_lexer": "ipython3",
   "version": "3.12.2"
  }
 },
 "nbformat": 4,
 "nbformat_minor": 2
}
