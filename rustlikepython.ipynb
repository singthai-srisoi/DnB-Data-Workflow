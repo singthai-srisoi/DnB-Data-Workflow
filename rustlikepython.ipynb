{
 "cells": [
  {
   "cell_type": "code",
   "execution_count": 7,
   "id": "5484a31d",
   "metadata": {},
   "outputs": [
    {
     "data": {
      "text/plain": [
       "{'id': 1, 'name': 'A'}"
      ]
     },
     "execution_count": 7,
     "metadata": {},
     "output_type": "execute_result"
    }
   ],
   "source": [
    "from pydantic.dataclasses import dataclass\n",
    "\n",
    "@dataclass(frozen=True)\n",
    "class A:\n",
    "    id: int\n",
    "    name: str\n",
    "    \n",
    "A(1, \"A\").__dict__\n",
    "\n"
   ]
  },
  {
   "cell_type": "code",
   "execution_count": 60,
   "id": "0e2ffefb",
   "metadata": {},
   "outputs": [
    {
     "data": {
      "text/plain": [
       "68626936063440590617763084572371833382"
      ]
     },
     "execution_count": 60,
     "metadata": {},
     "output_type": "execute_result"
    }
   ],
   "source": [
    "from typing import TypeAlias, TypeVar, Generic, Callable, Any\n",
    "from pydantic.dataclasses import dataclass\n",
    "\n",
    "\"\"\"\n",
    "This is based off of: https://github.com/rustedpy/result\n",
    "\"\"\"\n",
    "\n",
    "TOK = TypeVar(\"TOK\")\n",
    "TOKU = TypeVar(\"TOKU\")\n",
    "TERR = TypeVar(\"TERR\")\n",
    "\n",
    "@dataclass(frozen=True)\n",
    "class Ok(Generic[TOK]):\n",
    "    __match_args__ = (\"_value\",)\n",
    "    _value: TOK\n",
    "    def __init__(self, value: TOK): self._value = value\n",
    "    def is_ok(self) -> bool: return True\n",
    "    def is_err(self) -> bool: return False\n",
    "    def unwrap(self) -> TOK: return self._value\n",
    "    def unwrap_or(self, default: TOK) -> TOK: return self._value\n",
    "    def map(self, f: Callable[[TOK], TOKU]) -> \"Ok[TOKU]\":\n",
    "        return Ok(f(self._value))\n",
    "\n",
    "@dataclass(frozen=True)\n",
    "class Err(Generic[TERR]):\n",
    "    __match_args__ = (\"_err\",)\n",
    "    _err: TERR\n",
    "    def __init__(self, err: TERR): self._err = err\n",
    "    def is_ok(self) -> bool: return False\n",
    "    def is_err(self) -> bool: return True\n",
    "    def unwrap(self): raise Exception(f\"Called unwrap on Err: {self._err}\")\n",
    "    def unwrap_or(self, default): return default\n",
    "    def map(self, f: Callable[[Any], Any]) -> \"Err[TERR]\": return self\n",
    "\n",
    "Result: TypeAlias = Ok[TOK] | Err[TERR]\n",
    "\n",
    "\n",
    "from uuid import uuid4\n",
    "def check_number_random() -> Result[int, str]:\n",
    "    num = uuid4().int\n",
    "    if  num % 2 == 0:\n",
    "        return Ok(num)\n",
    "    else:\n",
    "        return Err(\"Not an even number\")\n",
    "\n",
    "# match check_number_random():\n",
    "#     case Ok(value):\n",
    "#         print(f\"Even number: {value}\")\n",
    "#     case Err(err):\n",
    "#         print(f\"Error: {err}\")\n",
    "#     case _:\n",
    "#         print(\"Unknown error\")\n",
    "res = check_number_random()\n",
    "res.unwrap_or(0)"
   ]
  },
  {
   "cell_type": "code",
   "execution_count": null,
   "id": "ab679b05",
   "metadata": {},
   "outputs": [
    {
     "name": "stdout",
     "output_type": "stream",
     "text": [
      "Even number: 303645041522558254169092523968029246142\n"
     ]
    }
   ],
   "source": []
  }
 ],
 "metadata": {
  "kernelspec": {
   "display_name": "venv",
   "language": "python",
   "name": "python3"
  },
  "language_info": {
   "codemirror_mode": {
    "name": "ipython",
    "version": 3
   },
   "file_extension": ".py",
   "mimetype": "text/x-python",
   "name": "python",
   "nbconvert_exporter": "python",
   "pygments_lexer": "ipython3",
   "version": "3.12.2"
  }
 },
 "nbformat": 4,
 "nbformat_minor": 5
}
