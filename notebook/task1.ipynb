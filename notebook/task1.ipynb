{
 "cells": [
  {
   "cell_type": "code",
   "execution_count": 57,
   "metadata": {},
   "outputs": [
    {
     "name": "stderr",
     "output_type": "stream",
     "text": [
      "Could not determine dtype for column 7, falling back to string\n"
     ]
    }
   ],
   "source": [
    "import polars as pl\n",
    "from typing import List\n",
    "\n",
    "customer = pl.read_excel(\n",
    "    \"./data/excel data/Maintain Customer.xlsx\",\n",
    "    sheet_name=\"Maintain Customer\",\n",
    ")\n",
    "supplier = pl.read_excel(\n",
    "    \"./data/excel data/Maintain Supplier.xlsx\",\n",
    "    sheet_name=\"Maintain Supplier\",\n",
    ")\n",
    "sal_pur = pl.read_excel(\n",
    "    \"./data/excel data/bst jan2025 sales&pur ffb.xlsx\",\n",
    "    sheet_name=\"jan2025\",\n",
    ")\n",
    "\n",
    "sal_pur = sal_pur.filter(\n",
    "    (sal_pur[\"Date Out\"].is_not_null()) & (sal_pur[\"Supplier\"].is_not_null())\n",
    ")\n",
    "\n",
    "sal_pur = sal_pur.join(supplier, left_on=\"Supplier\", right_on=\"Code\", how=\"inner\")\n",
    "# only need columns [Date Out => DocDate, Supplier => Code, Net Wt(Ton) => Qty, Price(ton) => U/Price]\n",
    "sal_pur = sal_pur.select([\n",
    "    \"Date Out\",\n",
    "    \"Supplier\",\n",
    "    \"Net Wt(Ton)\",\n",
    "    \"Price(ton)\",\n",
    "]).rename({\n",
    "    \"Date Out\": \"DocDate\",\n",
    "    \"Supplier\": \"Code\",\n",
    "    \"Net Wt(Ton)\": \"Qty\",\n",
    "    \"Price(ton)\": \"U/Price\",\n",
    "})\n",
    "# sal_pur = sal_pur.with_row_index(offset=1)\n",
    "\n"
   ]
  },
  {
   "cell_type": "code",
   "execution_count": 58,
   "metadata": {},
   "outputs": [
    {
     "name": "stderr",
     "output_type": "stream",
     "text": [
      "sys:1: MapWithoutReturnDtypeWarning: Calling `map_elements` without specifying `return_dtype` can lead to unpredictable results. Specify `return_dtype` to silence this warning.\n"
     ]
    },
    {
     "data": {
      "text/html": [
       "<div><style>\n",
       ".dataframe > thead > tr,\n",
       ".dataframe > tbody > tr {\n",
       "  text-align: right;\n",
       "  white-space: pre-wrap;\n",
       "}\n",
       "</style>\n",
       "<small>shape: (113, 6)</small><table border=\"1\" class=\"dataframe\"><thead><tr><th>Code</th><th>DocDate</th><th>Qty</th><th>U/Price</th><th>Seq</th><th>DocNo</th></tr><tr><td>str</td><td>date</td><td>f64</td><td>f64</td><td>i64</td><td>str</td></tr></thead><tbody><tr><td>&quot;1015&quot;</td><td>2025-01-16</td><td>0.96</td><td>900.0</td><td>1</td><td>&quot;PI-00002&quot;</td></tr><tr><td>&quot;1015&quot;</td><td>2025-01-20</td><td>0.82</td><td>880.0</td><td>2</td><td>&quot;PI-00002&quot;</td></tr><tr><td>&quot;1026&quot;</td><td>2025-01-23</td><td>0.36</td><td>880.0</td><td>1</td><td>&quot;PI-00003&quot;</td></tr><tr><td>&quot;2019&quot;</td><td>2025-01-04</td><td>0.81</td><td>920.0</td><td>1</td><td>&quot;PI-00004&quot;</td></tr><tr><td>&quot;2019&quot;</td><td>2025-01-26</td><td>1.08</td><td>880.0</td><td>2</td><td>&quot;PI-00004&quot;</td></tr><tr><td>&hellip;</td><td>&hellip;</td><td>&hellip;</td><td>&hellip;</td><td>&hellip;</td><td>&hellip;</td></tr><tr><td>&quot;2114&quot;</td><td>2025-01-11</td><td>2.01</td><td>900.0</td><td>2</td><td>&quot;PI-00044&quot;</td></tr><tr><td>&quot;2114&quot;</td><td>2025-01-12</td><td>0.05</td><td>900.0</td><td>3</td><td>&quot;PI-00044&quot;</td></tr><tr><td>&quot;2114&quot;</td><td>2025-01-13</td><td>0.02</td><td>900.0</td><td>4</td><td>&quot;PI-00044&quot;</td></tr><tr><td>&quot;2114&quot;</td><td>2025-01-16</td><td>0.06</td><td>900.0</td><td>5</td><td>&quot;PI-00044&quot;</td></tr><tr><td>&quot;2119&quot;</td><td>2025-01-02</td><td>0.97</td><td>900.0</td><td>1</td><td>&quot;PI-00045&quot;</td></tr></tbody></table></div>"
      ],
      "text/plain": [
       "shape: (113, 6)\n",
       "┌──────┬────────────┬──────┬─────────┬─────┬──────────┐\n",
       "│ Code ┆ DocDate    ┆ Qty  ┆ U/Price ┆ Seq ┆ DocNo    │\n",
       "│ ---  ┆ ---        ┆ ---  ┆ ---     ┆ --- ┆ ---      │\n",
       "│ str  ┆ date       ┆ f64  ┆ f64     ┆ i64 ┆ str      │\n",
       "╞══════╪════════════╪══════╪═════════╪═════╪══════════╡\n",
       "│ 1015 ┆ 2025-01-16 ┆ 0.96 ┆ 900.0   ┆ 1   ┆ PI-00002 │\n",
       "│ 1015 ┆ 2025-01-20 ┆ 0.82 ┆ 880.0   ┆ 2   ┆ PI-00002 │\n",
       "│ 1026 ┆ 2025-01-23 ┆ 0.36 ┆ 880.0   ┆ 1   ┆ PI-00003 │\n",
       "│ 2019 ┆ 2025-01-04 ┆ 0.81 ┆ 920.0   ┆ 1   ┆ PI-00004 │\n",
       "│ 2019 ┆ 2025-01-26 ┆ 1.08 ┆ 880.0   ┆ 2   ┆ PI-00004 │\n",
       "│ …    ┆ …          ┆ …    ┆ …       ┆ …   ┆ …        │\n",
       "│ 2114 ┆ 2025-01-11 ┆ 2.01 ┆ 900.0   ┆ 2   ┆ PI-00044 │\n",
       "│ 2114 ┆ 2025-01-12 ┆ 0.05 ┆ 900.0   ┆ 3   ┆ PI-00044 │\n",
       "│ 2114 ┆ 2025-01-13 ┆ 0.02 ┆ 900.0   ┆ 4   ┆ PI-00044 │\n",
       "│ 2114 ┆ 2025-01-16 ┆ 0.06 ┆ 900.0   ┆ 5   ┆ PI-00044 │\n",
       "│ 2119 ┆ 2025-01-02 ┆ 0.97 ┆ 900.0   ┆ 1   ┆ PI-00045 │\n",
       "└──────┴────────────┴──────┴─────────┴─────┴──────────┘"
      ]
     },
     "execution_count": 58,
     "metadata": {},
     "output_type": "execute_result"
    }
   ],
   "source": [
    "start_index = 2\n",
    "sal_pur_grouped = (\n",
    "    sal_pur\n",
    "    .group_by(\n",
    "        [\"Code\"],\n",
    "        maintain_order=True\n",
    "    )\n",
    "    .all()\n",
    "    .with_row_index(offset=start_index)\n",
    "    .with_columns(\n",
    "        Seq = pl.col(\"DocDate\").list.len().map_elements(lambda x: list(range(1, x + 1)), return_dtype=List[int]),\n",
    "        # DocNo = f\"PI-{pl.col('index'):0>5}\"\n",
    "        DocNo = pl.col(\"index\").map_elements(lambda x: f\"PI-{x:0>5}\")\n",
    "    )\n",
    "    .drop([\"index\"])\n",
    "    .explode(\"DocDate\", \"Seq\", \"Qty\", \"U/Price\")\n",
    ")\n",
    "sal_pur_grouped\n"
   ]
  },
  {
   "cell_type": "code",
   "execution_count": 68,
   "metadata": {},
   "outputs": [
    {
     "name": "stderr",
     "output_type": "stream",
     "text": [
      "Could not determine dtype for column 7, falling back to string\n"
     ]
    },
    {
     "data": {
      "text/html": [
       "<div><style>\n",
       ".dataframe > thead > tr,\n",
       ".dataframe > tbody > tr {\n",
       "  text-align: right;\n",
       "  white-space: pre-wrap;\n",
       "}\n",
       "</style>\n",
       "<small>shape: (93, 26)</small><table border=\"1\" class=\"dataframe\"><thead><tr><th>Date Out</th><th>Serial No</th><th>Lorry No</th><th>Supplier</th><th>Net Wt(Ton)</th><th>Price(ton)</th><th>Gross Amt</th><th>TPT CHRG</th><th>Tpt Amt</th><th>30%</th><th>Worker Chrg</th><th>Worker Amt</th><th>Others</th><th>NET</th><th>Company Name</th><th>Control A/C</th><th>Company Category</th><th>Address 1</th><th>Address 2</th><th>Address 3</th><th>Address 4</th><th>Post Code</th><th>TIN</th><th>ID Type</th><th>ID No</th><th>Supplier_Code</th></tr><tr><td>date</td><td>str</td><td>str</td><td>str</td><td>f64</td><td>f64</td><td>f64</td><td>i64</td><td>f64</td><td>f64</td><td>i64</td><td>f64</td><td>i64</td><td>f64</td><td>str</td><td>str</td><td>str</td><td>str</td><td>str</td><td>str</td><td>str</td><td>str</td><td>str</td><td>str</td><td>str</td><td>str</td></tr></thead><tbody><tr><td>2025-01-22</td><td>&quot;P0028959&quot;</td><td>&quot;3357&quot;</td><td>&quot;1001&quot;</td><td>0.12</td><td>880.0</td><td>105.6</td><td>null</td><td>0.0</td><td>null</td><td>null</td><td>0.0</td><td>null</td><td>105.6</td><td>null</td><td>null</td><td>null</td><td>null</td><td>null</td><td>null</td><td>null</td><td>null</td><td>null</td><td>null</td><td>null</td><td>null</td></tr><tr><td>2025-01-22</td><td>&quot;P0028960&quot;</td><td>&quot;SA3357T&quot;</td><td>&quot;1001&quot;</td><td>0.05</td><td>880.0</td><td>44.0</td><td>null</td><td>0.0</td><td>null</td><td>null</td><td>0.0</td><td>null</td><td>44.0</td><td>null</td><td>null</td><td>null</td><td>null</td><td>null</td><td>null</td><td>null</td><td>null</td><td>null</td><td>null</td><td>null</td><td>null</td></tr><tr><td>2025-01-09</td><td>&quot;P0028861&quot;</td><td>&quot;WMH5591&quot;</td><td>&quot;1004&quot;</td><td>0.16</td><td>920.0</td><td>147.2</td><td>null</td><td>0.0</td><td>null</td><td>null</td><td>0.0</td><td>null</td><td>147.2</td><td>null</td><td>null</td><td>null</td><td>null</td><td>null</td><td>null</td><td>null</td><td>null</td><td>null</td><td>null</td><td>null</td><td>null</td></tr><tr><td>2025-01-10</td><td>&quot;P0028866&quot;</td><td>&quot;WH5591&quot;</td><td>&quot;1004&quot;</td><td>0.17</td><td>900.0</td><td>153.0</td><td>null</td><td>0.0</td><td>null</td><td>null</td><td>0.0</td><td>null</td><td>153.0</td><td>null</td><td>null</td><td>null</td><td>null</td><td>null</td><td>null</td><td>null</td><td>null</td><td>null</td><td>null</td><td>null</td><td>null</td></tr><tr><td>2025-01-21</td><td>&quot;P0028943&quot;</td><td>&quot;4867&quot;</td><td>&quot;1005&quot;</td><td>0.25</td><td>880.0</td><td>220.0</td><td>null</td><td>0.0</td><td>null</td><td>null</td><td>0.0</td><td>null</td><td>220.0</td><td>null</td><td>null</td><td>null</td><td>null</td><td>null</td><td>null</td><td>null</td><td>null</td><td>null</td><td>null</td><td>null</td><td>null</td></tr><tr><td>&hellip;</td><td>&hellip;</td><td>&hellip;</td><td>&hellip;</td><td>&hellip;</td><td>&hellip;</td><td>&hellip;</td><td>&hellip;</td><td>&hellip;</td><td>&hellip;</td><td>&hellip;</td><td>&hellip;</td><td>&hellip;</td><td>&hellip;</td><td>&hellip;</td><td>&hellip;</td><td>&hellip;</td><td>&hellip;</td><td>&hellip;</td><td>&hellip;</td><td>&hellip;</td><td>&hellip;</td><td>&hellip;</td><td>&hellip;</td><td>&hellip;</td><td>&hellip;</td></tr><tr><td>null</td><td>null</td><td>null</td><td>null</td><td>2411.695299</td><td>null</td><td>null</td><td>null</td><td>null</td><td>null</td><td>null</td><td>null</td><td>null</td><td>null</td><td>null</td><td>null</td><td>null</td><td>null</td><td>null</td><td>null</td><td>null</td><td>null</td><td>null</td><td>null</td><td>null</td><td>null</td></tr><tr><td>null</td><td>null</td><td>&quot;sales:&quot;</td><td>&quot;1. tian siang&quot;</td><td>28.56</td><td>977.84</td><td>27927.1104</td><td>null</td><td>null</td><td>null</td><td>null</td><td>null</td><td>null</td><td>null</td><td>null</td><td>null</td><td>null</td><td>null</td><td>null</td><td>null</td><td>null</td><td>null</td><td>null</td><td>null</td><td>null</td><td>null</td></tr><tr><td>null</td><td>null</td><td>null</td><td>&quot;2. d&amp;b tdg&quot;</td><td>245.18</td><td>998.03</td><td>244696.9954</td><td>null</td><td>null</td><td>null</td><td>null</td><td>null</td><td>null</td><td>null</td><td>null</td><td>null</td><td>null</td><td>null</td><td>null</td><td>null</td><td>null</td><td>null</td><td>null</td><td>null</td><td>null</td><td>null</td></tr><tr><td>null</td><td>null</td><td>null</td><td>null</td><td>273.74</td><td>null</td><td>272624.1058</td><td>null</td><td>null</td><td>null</td><td>null</td><td>null</td><td>null</td><td>null</td><td>null</td><td>null</td><td>null</td><td>null</td><td>null</td><td>null</td><td>null</td><td>null</td><td>null</td><td>null</td><td>null</td><td>null</td></tr><tr><td>null</td><td>null</td><td>null</td><td>null</td><td>null</td><td>null</td><td>38183.2058</td><td>null</td><td>null</td><td>null</td><td>null</td><td>null</td><td>null</td><td>null</td><td>null</td><td>null</td><td>null</td><td>null</td><td>null</td><td>null</td><td>null</td><td>null</td><td>null</td><td>null</td><td>null</td><td>null</td></tr></tbody></table></div>"
      ],
      "text/plain": [
       "shape: (93, 26)\n",
       "┌────────────┬───────────┬──────────┬───────────────┬───┬──────┬─────────┬───────┬───────────────┐\n",
       "│ Date Out   ┆ Serial No ┆ Lorry No ┆ Supplier      ┆ … ┆ TIN  ┆ ID Type ┆ ID No ┆ Supplier_Code │\n",
       "│ ---        ┆ ---       ┆ ---      ┆ ---           ┆   ┆ ---  ┆ ---     ┆ ---   ┆ ---           │\n",
       "│ date       ┆ str       ┆ str      ┆ str           ┆   ┆ str  ┆ str     ┆ str   ┆ str           │\n",
       "╞════════════╪═══════════╪══════════╪═══════════════╪═══╪══════╪═════════╪═══════╪═══════════════╡\n",
       "│ 2025-01-22 ┆ P0028959  ┆ 3357     ┆ 1001          ┆ … ┆ null ┆ null    ┆ null  ┆ null          │\n",
       "│ 2025-01-22 ┆ P0028960  ┆ SA3357T  ┆ 1001          ┆ … ┆ null ┆ null    ┆ null  ┆ null          │\n",
       "│ 2025-01-09 ┆ P0028861  ┆ WMH5591  ┆ 1004          ┆ … ┆ null ┆ null    ┆ null  ┆ null          │\n",
       "│ 2025-01-10 ┆ P0028866  ┆ WH5591   ┆ 1004          ┆ … ┆ null ┆ null    ┆ null  ┆ null          │\n",
       "│ 2025-01-21 ┆ P0028943  ┆ 4867     ┆ 1005          ┆ … ┆ null ┆ null    ┆ null  ┆ null          │\n",
       "│ …          ┆ …         ┆ …        ┆ …             ┆ … ┆ …    ┆ …       ┆ …     ┆ …             │\n",
       "│ null       ┆ null      ┆ null     ┆ null          ┆ … ┆ null ┆ null    ┆ null  ┆ null          │\n",
       "│ null       ┆ null      ┆ sales:   ┆ 1. tian siang ┆ … ┆ null ┆ null    ┆ null  ┆ null          │\n",
       "│ null       ┆ null      ┆ null     ┆ 2. d&b tdg    ┆ … ┆ null ┆ null    ┆ null  ┆ null          │\n",
       "│ null       ┆ null      ┆ null     ┆ null          ┆ … ┆ null ┆ null    ┆ null  ┆ null          │\n",
       "│ null       ┆ null      ┆ null     ┆ null          ┆ … ┆ null ┆ null    ┆ null  ┆ null          │\n",
       "└────────────┴───────────┴──────────┴───────────────┴───┴──────┴─────────┴───────┴───────────────┘"
      ]
     },
     "execution_count": 68,
     "metadata": {},
     "output_type": "execute_result"
    }
   ],
   "source": [
    "# record of supplier that is not in the supplier table\n",
    "\n",
    "sal_pur_ = pl.read_excel(\n",
    "    \"./data/excel data/bst jan2025 sales&pur ffb.xlsx\",\n",
    "    sheet_name=\"jan2025\",\n",
    ")\n",
    "supplier_ = pl.read_excel(\n",
    "    \"./data/excel data/Maintain Supplier.xlsx\",\n",
    "    sheet_name=\"Maintain Supplier\",\n",
    ")\n",
    "supplier_ = supplier_.with_columns(\n",
    "    Supplier_Code = pl.col(\"Code\")\n",
    ")\n",
    "sal_pur_.join(supplier_, left_on=\"Supplier\", right_on=\"Code\", how=\"left\").filter(pl.col(\"Supplier_Code\").is_null())\n"
   ]
  },
  {
   "cell_type": "code",
   "execution_count": null,
   "metadata": {},
   "outputs": [
    {
     "name": "stdout",
     "output_type": "stream",
     "text": [
      "['Supplier', 'Purchase (2)', 'jan2025', 'PURCHASE']\n"
     ]
    }
   ],
   "source": [
    "import fastexcel as fex\n",
    "\n",
    "sal_pur = fex.read_excel(\"./data/excel data/bst jan2025 sales&pur ffb.xlsx\")\n",
    "print(sal_pur.sheet_names)\n",
    "\n"
   ]
  }
 ],
 "metadata": {
  "kernelspec": {
   "display_name": "venv",
   "language": "python",
   "name": "python3"
  },
  "language_info": {
   "codemirror_mode": {
    "name": "ipython",
    "version": 3
   },
   "file_extension": ".py",
   "mimetype": "text/x-python",
   "name": "python",
   "nbconvert_exporter": "python",
   "pygments_lexer": "ipython3",
   "version": "3.11.2"
  }
 },
 "nbformat": 4,
 "nbformat_minor": 2
}
