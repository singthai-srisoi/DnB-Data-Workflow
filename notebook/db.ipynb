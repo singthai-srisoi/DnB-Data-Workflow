{
 "cells": [
  {
   "cell_type": "code",
   "execution_count": null,
   "metadata": {},
   "outputs": [
    {
     "name": "stdout",
     "output_type": "stream",
     "text": [
      "shape: (123, 12)\n",
      "┌────────────┬─────┬────────────┬────────────┬───┬────────────┬────────────┬───────────┬───────────┐\n",
      "│ code       ┆ id  ┆ control_ac ┆ address_1  ┆ … ┆ second_com ┆ address_2  ┆ post_code ┆ id_type   │\n",
      "│ ---        ┆ --- ┆ ---        ┆ ---        ┆   ┆ pany_name  ┆ ---        ┆ ---       ┆ ---       │\n",
      "│ str        ┆ i64 ┆ str        ┆ str        ┆   ┆ ---        ┆ str        ┆ str       ┆ str       │\n",
      "│            ┆     ┆            ┆            ┆   ┆ str        ┆            ┆           ┆           │\n",
      "╞════════════╪═════╪════════════╪════════════╪═══╪════════════╪════════════╪═══════════╪═══════════╡\n",
      "│ 300-1001   ┆ 1   ┆ 300-000    ┆            ┆ … ┆ null       ┆            ┆           ┆ NRIC      │\n",
      "│ 300-1004   ┆ 2   ┆ 300-000    ┆            ┆ … ┆ null       ┆            ┆           ┆ NRIC      │\n",
      "│ 300-1005   ┆ 3   ┆ 300-000    ┆            ┆ … ┆ null       ┆            ┆           ┆ NRIC      │\n",
      "│ 300-1007   ┆ 4   ┆ 300-000    ┆            ┆ … ┆ null       ┆            ┆           ┆ NRIC      │\n",
      "│ 300-1009   ┆ 5   ┆ 300-000    ┆            ┆ … ┆ null       ┆            ┆           ┆ NRIC      │\n",
      "│ …          ┆ …   ┆ …          ┆ …          ┆ … ┆ …          ┆ …          ┆ …         ┆ …         │\n",
      "│ 300-400-A0 ┆ 119 ┆ 300-000    ┆ KEMAHANG   ┆ … ┆ null       ┆            ┆ 27600     ┆ NRIC      │\n",
      "│ 300-400-M0 ┆ 120 ┆ 300-000    ┆ KG BARU    ┆ … ┆ null       ┆            ┆ 27300     ┆ NRIC      │\n",
      "│            ┆     ┆            ┆ BENTA      ┆   ┆            ┆            ┆           ┆           │\n",
      "│ 300-A0001  ┆ 121 ┆ 300-000    ┆ KEMAHANG   ┆ … ┆ null       ┆            ┆ 27600     ┆ NRIC      │\n",
      "│ 300-D0001  ┆ 122 ┆ 300-000    ┆ LOT PT     ┆ … ┆ null       ┆ null       ┆ 27300     ┆ BRN (New) │\n",
      "│            ┆     ┆            ┆ 2561, KG   ┆   ┆            ┆            ┆           ┆           │\n",
      "│            ┆     ┆            ┆ MELAYU     ┆   ┆            ┆            ┆           ┆           │\n",
      "│            ┆     ┆            ┆ NABUN      ┆   ┆            ┆            ┆           ┆           │\n",
      "│ 300-T0001  ┆ 123 ┆ 300-000    ┆ TIAN SIANG ┆ … ┆ null       ┆ JALAN      ┆ 32000     ┆ BRN (New) │\n",
      "│            ┆     ┆            ┆ SQUARE     ┆   ┆            ┆ KAMPUNG    ┆           ┆           │\n",
      "│            ┆     ┆            ┆            ┆   ┆            ┆ SITIAWAN   ┆           ┆           │\n",
      "└────────────┴─────┴────────────┴────────────┴───┴────────────┴────────────┴───────────┴───────────┘\n"
     ]
    },
    {
     "data": {
      "text/html": [
       "<div><style>\n",
       ".dataframe > thead > tr,\n",
       ".dataframe > tbody > tr {\n",
       "  text-align: right;\n",
       "  white-space: pre-wrap;\n",
       "}\n",
       "</style>\n",
       "<small>shape: (123, 12)</small><table border=\"1\" class=\"dataframe\"><thead><tr><th>code</th><th>id</th><th>control_ac</th><th>address_1</th><th>address_3</th><th>tin</th><th>id_no</th><th>company_name</th><th>second_company_name</th><th>address_2</th><th>post_code</th><th>id_type</th></tr><tr><td>str</td><td>i64</td><td>str</td><td>str</td><td>str</td><td>str</td><td>str</td><td>str</td><td>str</td><td>str</td><td>str</td><td>str</td></tr></thead><tbody><tr><td>&quot;300-1001&quot;</td><td>1</td><td>&quot;300-000&quot;</td><td>&quot;&quot;</td><td>&quot;&quot;</td><td>&quot;&quot;</td><td>null</td><td>&quot;JAMALUDIN&quot;</td><td>null</td><td>&quot;&quot;</td><td>&quot;&quot;</td><td>&quot;NRIC&quot;</td></tr><tr><td>&quot;300-1004&quot;</td><td>2</td><td>&quot;300-000&quot;</td><td>&quot;&quot;</td><td>&quot;&quot;</td><td>&quot;&quot;</td><td>null</td><td>&quot;DORAISAMY AB/L SUBPRAMANIAM&quot;</td><td>null</td><td>&quot;&quot;</td><td>&quot;&quot;</td><td>&quot;NRIC&quot;</td></tr><tr><td>&quot;300-1005&quot;</td><td>3</td><td>&quot;300-000&quot;</td><td>&quot;&quot;</td><td>&quot;&quot;</td><td>&quot;&quot;</td><td>null</td><td>&quot;AZFANIZAM&quot;</td><td>null</td><td>&quot;&quot;</td><td>&quot;&quot;</td><td>&quot;NRIC&quot;</td></tr><tr><td>&quot;300-1007&quot;</td><td>4</td><td>&quot;300-000&quot;</td><td>&quot;&quot;</td><td>&quot;&quot;</td><td>&quot;&quot;</td><td>null</td><td>&quot;Ching Ten Lai&quot;</td><td>null</td><td>&quot;&quot;</td><td>&quot;&quot;</td><td>&quot;NRIC&quot;</td></tr><tr><td>&quot;300-1009&quot;</td><td>5</td><td>&quot;300-000&quot;</td><td>&quot;&quot;</td><td>&quot;&quot;</td><td>&quot;&quot;</td><td>null</td><td>&quot;SAKTIVEL A/L PONNAN @ PONN PPA…</td><td>null</td><td>&quot;&quot;</td><td>&quot;&quot;</td><td>&quot;NRIC&quot;</td></tr><tr><td>&hellip;</td><td>&hellip;</td><td>&hellip;</td><td>&hellip;</td><td>&hellip;</td><td>&hellip;</td><td>&hellip;</td><td>&hellip;</td><td>&hellip;</td><td>&hellip;</td><td>&hellip;</td><td>&hellip;</td></tr><tr><td>&quot;300-400-A0&quot;</td><td>119</td><td>&quot;300-000&quot;</td><td>&quot;KEMAHANG&quot;</td><td>&quot;&quot;</td><td>&quot;IG23530364100&quot;</td><td>null</td><td>&quot;AMIRUDDIN ABU KASSIM&quot;</td><td>null</td><td>&quot;&quot;</td><td>&quot;27600&quot;</td><td>&quot;NRIC&quot;</td></tr><tr><td>&quot;300-400-M0&quot;</td><td>120</td><td>&quot;300-000&quot;</td><td>&quot;KG BARU BENTA&quot;</td><td>&quot;&quot;</td><td>&quot;IG4378050040&quot;</td><td>null</td><td>&quot;MUNIANDY&quot;</td><td>null</td><td>&quot;&quot;</td><td>&quot;27300&quot;</td><td>&quot;NRIC&quot;</td></tr><tr><td>&quot;300-A0001&quot;</td><td>121</td><td>&quot;300-000&quot;</td><td>&quot;KEMAHANG&quot;</td><td>&quot;&quot;</td><td>&quot;&quot;</td><td>null</td><td>&quot;AMIRUDDIN ABU KASSIM&quot;</td><td>null</td><td>&quot;&quot;</td><td>&quot;27600&quot;</td><td>&quot;NRIC&quot;</td></tr><tr><td>&quot;300-D0001&quot;</td><td>122</td><td>&quot;300-000&quot;</td><td>&quot;LOT PT 2561, KG MELAYU NABUN&quot;</td><td>null</td><td>&quot;D26404594070&quot;</td><td>&quot;201803252682&quot;</td><td>&quot;D &amp; B TRADING&quot;</td><td>null</td><td>null</td><td>&quot;27300&quot;</td><td>&quot;BRN (New)&quot;</td></tr><tr><td>&quot;300-T0001&quot;</td><td>123</td><td>&quot;300-000&quot;</td><td>&quot;TIAN SIANG SQUARE&quot;</td><td>null</td><td>&quot;C11617160100&quot;</td><td>&quot;199501033444&quot;</td><td>&quot;TIAN SIANG OIL MILL (PAHANG) S…</td><td>null</td><td>&quot;JALAN KAMPUNG SITIAWAN&quot;</td><td>&quot;32000&quot;</td><td>&quot;BRN (New)&quot;</td></tr></tbody></table></div>"
      ],
      "text/plain": [
       "shape: (123, 12)\n",
       "┌────────────┬─────┬────────────┬────────────┬───┬────────────┬────────────┬───────────┬───────────┐\n",
       "│ code       ┆ id  ┆ control_ac ┆ address_1  ┆ … ┆ second_com ┆ address_2  ┆ post_code ┆ id_type   │\n",
       "│ ---        ┆ --- ┆ ---        ┆ ---        ┆   ┆ pany_name  ┆ ---        ┆ ---       ┆ ---       │\n",
       "│ str        ┆ i64 ┆ str        ┆ str        ┆   ┆ ---        ┆ str        ┆ str       ┆ str       │\n",
       "│            ┆     ┆            ┆            ┆   ┆ str        ┆            ┆           ┆           │\n",
       "╞════════════╪═════╪════════════╪════════════╪═══╪════════════╪════════════╪═══════════╪═══════════╡\n",
       "│ 300-1001   ┆ 1   ┆ 300-000    ┆            ┆ … ┆ null       ┆            ┆           ┆ NRIC      │\n",
       "│ 300-1004   ┆ 2   ┆ 300-000    ┆            ┆ … ┆ null       ┆            ┆           ┆ NRIC      │\n",
       "│ 300-1005   ┆ 3   ┆ 300-000    ┆            ┆ … ┆ null       ┆            ┆           ┆ NRIC      │\n",
       "│ 300-1007   ┆ 4   ┆ 300-000    ┆            ┆ … ┆ null       ┆            ┆           ┆ NRIC      │\n",
       "│ 300-1009   ┆ 5   ┆ 300-000    ┆            ┆ … ┆ null       ┆            ┆           ┆ NRIC      │\n",
       "│ …          ┆ …   ┆ …          ┆ …          ┆ … ┆ …          ┆ …          ┆ …         ┆ …         │\n",
       "│ 300-400-A0 ┆ 119 ┆ 300-000    ┆ KEMAHANG   ┆ … ┆ null       ┆            ┆ 27600     ┆ NRIC      │\n",
       "│ 300-400-M0 ┆ 120 ┆ 300-000    ┆ KG BARU    ┆ … ┆ null       ┆            ┆ 27300     ┆ NRIC      │\n",
       "│            ┆     ┆            ┆ BENTA      ┆   ┆            ┆            ┆           ┆           │\n",
       "│ 300-A0001  ┆ 121 ┆ 300-000    ┆ KEMAHANG   ┆ … ┆ null       ┆            ┆ 27600     ┆ NRIC      │\n",
       "│ 300-D0001  ┆ 122 ┆ 300-000    ┆ LOT PT     ┆ … ┆ null       ┆ null       ┆ 27300     ┆ BRN (New) │\n",
       "│            ┆     ┆            ┆ 2561, KG   ┆   ┆            ┆            ┆           ┆           │\n",
       "│            ┆     ┆            ┆ MELAYU     ┆   ┆            ┆            ┆           ┆           │\n",
       "│            ┆     ┆            ┆ NABUN      ┆   ┆            ┆            ┆           ┆           │\n",
       "│ 300-T0001  ┆ 123 ┆ 300-000    ┆ TIAN SIANG ┆ … ┆ null       ┆ JALAN      ┆ 32000     ┆ BRN (New) │\n",
       "│            ┆     ┆            ┆ SQUARE     ┆   ┆            ┆ KAMPUNG    ┆           ┆           │\n",
       "│            ┆     ┆            ┆            ┆   ┆            ┆ SITIAWAN   ┆           ┆           │\n",
       "└────────────┴─────┴────────────┴────────────┴───┴────────────┴────────────┴───────────┴───────────┘"
      ]
     },
     "execution_count": 32,
     "metadata": {},
     "output_type": "execute_result"
    }
   ],
   "source": [
    "from database import get_db_session\n",
    "from models.customer import Customer\n",
    "import polars as pl\n",
    "\n",
    "def get_data_db():\n",
    "    session = next(get_db_session())  # Get a session\n",
    "    try:\n",
    "        query = session.query(Customer).all()  # Fetch all results\n",
    "        \n",
    "        if not query:\n",
    "            print(\"No data found.\")\n",
    "            return\n",
    "        \n",
    "        # Convert SQLAlchemy ORM objects to list of dictionaries\n",
    "        data = [row.__dict__ for row in query]\n",
    "\n",
    "        # Remove the `_sa_instance_state` key (internal SQLAlchemy attribute)\n",
    "        for row in data:\n",
    "            row.pop('_sa_instance_state', None)\n",
    "\n",
    "        # Create a Polars DataFrame\n",
    "        df = pl.DataFrame(data)\n",
    "        \n",
    "        return df\n",
    "    finally:\n",
    "        session.close()  # Always close the session\n",
    "\n",
    "get_data_db()"
   ]
  },
  {
   "cell_type": "code",
   "execution_count": 30,
   "metadata": {},
   "outputs": [
    {
     "name": "stdout",
     "output_type": "stream",
     "text": [
      "Succesfully imported 123 records\n"
     ]
    }
   ],
   "source": [
    "import fastexcel as fex\n",
    "import polars as pl\n",
    "from typing import List\n",
    "\n",
    "data_file_ = \"\"\"C:/Users/D&B Trading/Downloads/Maintain Customer.xlsx\"\"\"\n",
    "\n",
    "file = fex.read_excel(data_file_)\n",
    "sheets = file.sheet_names\n",
    "\n",
    "def pre_import_data_db(file: bytes, sheet_name: str = 'Maintain Customer') -> List[Customer]:\n",
    "    session = next(get_db_session())\n",
    "    df = pl.read_excel(file, sheet_name=sheet_name).rename({\n",
    "        'Code': 'code',\n",
    "        'Control A/C': 'control_ac',\n",
    "        'Company Name': 'company_name',\n",
    "        '2nd Company Name': 'second_company_name',\n",
    "        'Address 1': 'address_1',\n",
    "        'Address 2': 'address_2',\n",
    "        'Address 3': 'address_3',\n",
    "        'Post Code': 'post_code',\n",
    "        'TIN': 'tin',\n",
    "        'ID Type': 'id_type',\n",
    "        'ID No': 'id_no'\n",
    "    }).drop_nulls(subset=['code', 'company_name'])\n",
    "    customer_list: List[Customer] = []\n",
    "    \n",
    "    for row in df.to_dicts():\n",
    "        check_exist = session.query(Customer).filter(Customer.code == row.get('code')).first()\n",
    "        if check_exist:\n",
    "            continue\n",
    "        customer = Customer(**row)\n",
    "        customer_list.append(customer)\n",
    "    return customer_list\n",
    "\n",
    "def import_data_db(data: List[Customer]):\n",
    "    session = next(get_db_session())\n",
    "    try:\n",
    "        session.add_all(data)\n",
    "        session.commit()\n",
    "        print(f\"Succesfully imported {len(data)} records\")\n",
    "    finally:\n",
    "        session.close()\n",
    "\n",
    "    \n",
    "data = pre_import_data_db(data_file_)\n",
    "import_data_db(data)\n"
   ]
  }
 ],
 "metadata": {
  "kernelspec": {
   "display_name": "venv",
   "language": "python",
   "name": "python3"
  },
  "language_info": {
   "codemirror_mode": {
    "name": "ipython",
    "version": 3
   },
   "file_extension": ".py",
   "mimetype": "text/x-python",
   "name": "python",
   "nbconvert_exporter": "python",
   "pygments_lexer": "ipython3",
   "version": "3.12.2"
  }
 },
 "nbformat": 4,
 "nbformat_minor": 2
}
